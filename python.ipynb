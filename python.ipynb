{
 "cells": [
  {
   "cell_type": "markdown",
   "id": "10802d14-354f-43ed-96df-902bd29eceba",
   "metadata": {},
   "source": [
    "# TRABAJO PYTHON  \n",
    "\n",
    "## Ejercicios resueltos"
   ]
  },
  {
   "cell_type": "markdown",
   "id": "d14d1d79-4b3c-4033-ad7f-2c8bb9ca9100",
   "metadata": {},
   "source": [
    "### Ejercicio 1\n",
    "Defina un diccionario de al menos 4 llaves de tal manera que esas llaves sean tuplas. Acceda a cada elemento."
   ]
  },
  {
   "cell_type": "code",
   "execution_count": 12,
   "id": "755d0321-3a28-47c5-a587-6a1a6773e561",
   "metadata": {},
   "outputs": [],
   "source": [
    "Mi_dic=dict([\n",
    "    (\"Color\",[\"ROJO\", \"AZUL\", \"VERDE\"]),\n",
    "    (\"Marca\", [\"XIAOMI\", \"HUAWEI\",\"MOTOROLA\"]),\n",
    "    (\"Tamaño\", [\"4,5 PULGADAS\",\"4,7 PULGADAS\"]),\n",
    "    (\"Accesibilidad\",[\"Económico\", \"Costoso\"])\n",
    "        \n",
    "    ])"
   ]
  },
  {
   "cell_type": "markdown",
   "id": "eeb6503b-4948-4834-9735-578800b143ee",
   "metadata": {},
   "source": [
    "### Elementos categoria \"Color\"  "
   ]
  },
  {
   "cell_type": "code",
   "execution_count": 11,
   "id": "e0cd8ca1-63e2-4f23-ab54-9252059634e2",
   "metadata": {},
   "outputs": [
    {
     "name": "stdout",
     "output_type": "stream",
     "text": [
      "ROJO AZUL VERDE "
     ]
    }
   ],
   "source": [
    "\n",
    "for i in Mi_dic[\"Color\"]:\n",
    "    print(i, end=\" \")"
   ]
  },
  {
   "cell_type": "markdown",
   "id": "ad9b573e-8528-4c6f-b7fc-069f11848056",
   "metadata": {},
   "source": [
    "### Elementos categoria \"Marca\""
   ]
  },
  {
   "cell_type": "code",
   "execution_count": 20,
   "id": "f791d51c-8d18-493e-8c3a-92f42f668dfa",
   "metadata": {},
   "outputs": [
    {
     "name": "stdout",
     "output_type": "stream",
     "text": [
      "XIAOMI - HUAWEI - MOTOROLA - "
     ]
    }
   ],
   "source": [
    "for i in Mi_dic[\"Marca\"]:\n",
    "    print(i, end=\" - \")"
   ]
  },
  {
   "cell_type": "markdown",
   "id": "d2057fd5-6e67-4ceb-bc29-3321ff4e602c",
   "metadata": {},
   "source": [
    "### Elmentos categoria \"Tamaño\""
   ]
  },
  {
   "cell_type": "code",
   "execution_count": 18,
   "id": "fb5eea62-3880-44a3-b54e-3391d271fcda",
   "metadata": {},
   "outputs": [
    {
     "name": "stdout",
     "output_type": "stream",
     "text": [
      "4,5 PULGADAS  4,7 PULGADAS  "
     ]
    }
   ],
   "source": [
    "for i in Mi_dic[\"Tamaño\"]:\n",
    "    print(i, end=\" - \")"
   ]
  },
  {
   "cell_type": "markdown",
   "id": "88c7f1f4-dc2a-41d9-b1ef-0d079aecc955",
   "metadata": {},
   "source": [
    "### Elementos categoria \"Accesibilidad\""
   ]
  },
  {
   "cell_type": "code",
   "execution_count": 21,
   "id": "971c8554-dff1-4449-b497-4ae48ec6ef56",
   "metadata": {},
   "outputs": [
    {
     "name": "stdout",
     "output_type": "stream",
     "text": [
      "Económico - Costoso - "
     ]
    }
   ],
   "source": [
    "for i in Mi_dic[\"Accesibilidad\"]:\n",
    "    print(i, end=\" - \")"
   ]
  },
  {
   "cell_type": "markdown",
   "id": "168f9d19-52be-4096-96e6-c010c620b512",
   "metadata": {},
   "source": [
    "### Ejercicio 2"
   ]
  },
  {
   "cell_type": "markdown",
   "id": "06a206fe-5046-4548-975b-112593feeff1",
   "metadata": {},
   "source": [
    "Escribir en una lista los siguientes precios, 49, 60, 2, 22, 90, 45, 10, 99 donde se ordenen de menor a mayor y muestre el mínimo y el máximo. "
   ]
  },
  {
   "cell_type": "code",
   "execution_count": 5,
   "id": "48ec595b-b71b-4cef-83ae-26383e8436ca",
   "metadata": {},
   "outputs": [
    {
     "name": "stdout",
     "output_type": "stream",
     "text": [
      "El mínimo es 2\n",
      "El máximo es 99\n",
      "[2, 10, 22, 45, 49, 60, 90, 99]\n"
     ]
    }
   ],
   "source": [
    "Precios = [49, 60, 2, 22, 90, 45, 10, 99]\n",
    "min = max = Precios[0]\n",
    "for i in Precios:\n",
    "    if i < min:\n",
    "        min = i\n",
    "    elif i > max:\n",
    "        max = i \n",
    "print(\"El mínimo es \" + str(min)) \n",
    "print(\"El máximo es \" + str(max))\n",
    "\n",
    "print(sorted(Precios))"
   ]
  },
  {
   "cell_type": "markdown",
   "id": "9f568e4f-7e79-45cb-adc0-bba8854bf647",
   "metadata": {},
   "source": [
    "# PUNTO 3-4\n"
   ]
  },
  {
   "cell_type": "code",
   "execution_count": null,
   "id": "66b7db0d-edcc-4c87-9ef3-9570e85080a6",
   "metadata": {},
   "outputs": [],
   "source": [
    "from datetime import datetime\n",
    "import csv\n",
    "\n",
    "class CuentaBancaria:\n",
    "\n",
    "    MIN_SALDO = -10_000\n",
    "    \n",
    "    def __init__(self, cliente, numero_cuenta, saldo=0):\n",
    "        self.cliente = cliente    \n",
    "        self.numero_cuenta = numero_cuenta\n",
    "        self.creada_en = datetime.now().date()\n",
    "        if saldo < self.MIN_SALDO:\n",
    "            raise ValueError(\"¡Saldo muy pequeño!\")\n",
    "        else:\n",
    "            self.saldo = saldo\n",
    "    \n",
    "    @classmethod\n",
    "    def from_csv(cls, filepath):\n",
    "        with open(filepath, \"r\") as f:\n",
    "            fila = csv.reader(f).__next__()\n",
    "            cliente, numero_cuenta = fila\n",
    "            return cls(cliente, numero_cuenta)\n",
    "     \n",
    "    def deposito(self, monto):\n",
    "        self.saldo += monto\n",
    "        \n",
    "    def retiro(self, monto):\n",
    "        self.saldo -= monto\n",
    "    \n",
    "    def __eq__(self, other):\n",
    "        return True if self.numero_cuenta == other.numero_cuenta else False\n",
    "    \n",
    "    def __str__(self):\n",
    "        return f\"\"\"\n",
    "          Cuenta Bancaria:\n",
    "          Propietario de la cuenta: {self.cliente}\n",
    "          Número de cuenta: {self.numero_cuenta}\n",
    "          Fecha de creación: {self.to_dash_date(str(self.creada_en))}\n",
    "          Saldo actual: {self.saldo}\n",
    "          \"\"\"\n",
    "    \n",
    "    def to_dash_date(self, date):\n",
    "        return date.replace(\"/\", \"-\")\n",
    "    \n",
    "    def __repr__(self):\n",
    "        return f\"CuentaBancaria(cliente='{self.cliente}', \" \\\n",
    "               f\"numero_cuenta={self.numero_cuenta}, \" \\\n",
    "               f\"saldo={self.saldo})\""
   ]
  },
  {
   "cell_type": "code",
   "execution_count": null,
   "id": "338a19ef-575d-494b-b8ab-a472f14e8c3c",
   "metadata": {},
   "outputs": [
    {
     "name": "stdout",
     "output_type": "stream",
     "text": [
      "\n",
      "          Cuenta Bancaria:\n",
      "          Propietario de la cuenta: María\n",
      "          Número de cuenta: 151148\n",
      "          Fecha de creación: 2022-08-29\n",
      "          Saldo actual: 0\n",
      "          \n"
     ]
    },
    {
     "data": {
      "text/plain": [
       "\"CuentaBancaria(cliente='María', numero_cuenta=151148, saldo=0)\""
      ]
     },
     "execution_count": 30,
     "metadata": {},
     "output_type": "execute_result"
    }
   ],
   "source": [
    "mi_cuenta = CuentaBancaria(\"María\", 151148)\n",
    "print(mi_cuenta)\n",
    "repr(mi_cuenta)"
   ]
  },
  {
   "cell_type": "code",
   "execution_count": 7,
   "id": "7ac4f7b7-f193-426f-8356-735eeac9709e",
   "metadata": {},
   "outputs": [
    {
     "data": {
      "text/html": [
       "<div>\n",
       "<style scoped>\n",
       "    .dataframe tbody tr th:only-of-type {\n",
       "        vertical-align: middle;\n",
       "    }\n",
       "\n",
       "    .dataframe tbody tr th {\n",
       "        vertical-align: top;\n",
       "    }\n",
       "\n",
       "    .dataframe thead th {\n",
       "        text-align: right;\n",
       "    }\n",
       "</style>\n",
       "<table border=\"1\" class=\"dataframe\">\n",
       "  <thead>\n",
       "    <tr style=\"text-align: right;\">\n",
       "      <th></th>\n",
       "      <th>NUMERO DE CUENTA</th>\n",
       "      <th>CLIENTE</th>\n",
       "      <th>SALDO ACTUAL</th>\n",
       "    </tr>\n",
       "  </thead>\n",
       "  <tbody>\n",
       "    <tr>\n",
       "      <th>0</th>\n",
       "      <td>846846846</td>\n",
       "      <td>LOPEZ</td>\n",
       "      <td>50000000</td>\n",
       "    </tr>\n",
       "    <tr>\n",
       "      <th>1</th>\n",
       "      <td>684681681</td>\n",
       "      <td>MARTINEZ</td>\n",
       "      <td>60000000</td>\n",
       "    </tr>\n",
       "    <tr>\n",
       "      <th>2</th>\n",
       "      <td>164616816</td>\n",
       "      <td>MARIA</td>\n",
       "      <td>80000000</td>\n",
       "    </tr>\n",
       "    <tr>\n",
       "      <th>3</th>\n",
       "      <td>485616651</td>\n",
       "      <td>JUANA</td>\n",
       "      <td>96000000</td>\n",
       "    </tr>\n",
       "    <tr>\n",
       "      <th>4</th>\n",
       "      <td>798684618</td>\n",
       "      <td>JULIANA</td>\n",
       "      <td>46000000</td>\n",
       "    </tr>\n",
       "  </tbody>\n",
       "</table>\n",
       "</div>"
      ],
      "text/plain": [
       "   NUMERO DE CUENTA   CLIENTE  SALDO ACTUAL\n",
       "0         846846846    LOPEZ       50000000\n",
       "1         684681681  MARTINEZ      60000000\n",
       "2         164616816     MARIA      80000000\n",
       "3         485616651     JUANA      96000000\n",
       "4         798684618   JULIANA      46000000"
      ]
     },
     "execution_count": 7,
     "metadata": {},
     "output_type": "execute_result"
    }
   ],
   "source": [
    "import pandas\n",
    "link=\"https://raw.githubusercontent.com/JohanAHS/Lista-bancaria/main/Nuevo%20Hoja%20de%20c%C3%A1lculo%20de%20Microsoft%20Excel.csv\"\n",
    "Tabla=pandas.read_csv(link)\n",
    "Tabla.head()\n"
   ]
  },
  {
   "cell_type": "code",
   "execution_count": 9,
   "id": "77d1666c-b5cd-438f-ae56-49a86829a5db",
   "metadata": {},
   "outputs": [
    {
     "name": "stdout",
     "output_type": "stream",
     "text": [
      "CUENTA BANCARIA \n",
      "Cliente:LOPEZ  \n",
      "Numero de cuenta:846846846 \n",
      "Saldo actual:50000000 \n",
      "Fecha de transacción:2022-08-30\n",
      "1\n",
      " \n",
      "CUENTA BANCARIA \n",
      "Cliente:MARTINEZ \n",
      "Numero de cuenta:684681681 \n",
      "Saldo actual:60000000 \n",
      "Fecha de transacción:2022-08-30\n",
      "2\n",
      " \n",
      "CUENTA BANCARIA \n",
      "Cliente:MARIA \n",
      "Numero de cuenta:164616816 \n",
      "Saldo actual:80000000 \n",
      "Fecha de transacción:2022-08-30\n",
      "3\n",
      " \n",
      "CUENTA BANCARIA \n",
      "Cliente:JUANA \n",
      "Numero de cuenta:485616651 \n",
      "Saldo actual:96000000 \n",
      "Fecha de transacción:2022-08-30\n",
      "4\n",
      " \n",
      "CUENTA BANCARIA \n",
      "Cliente:JULIANA \n",
      "Numero de cuenta:798684618 \n",
      "Saldo actual:46000000 \n",
      "Fecha de transacción:2022-08-30\n"
     ]
    }
   ],
   "source": [
    "from datetime import datetime\n",
    "link=\"https://raw.githubusercontent.com/JohanAHS/Lista-bancaria/main/Nuevo%20Hoja%20de%20c%C3%A1lculo%20de%20Microsoft%20Excel.csv\"\n",
    "Tabla=pandas.read_csv(link)\n",
    "Tabla.head()\n",
    "\n",
    "class inte(object):\n",
    "\n",
    "    def _init_(self):\n",
    "        pass\n",
    "\n",
    "    @classmethod\n",
    "    def Banco(cls,Numero):\n",
    "\n",
    "        Numero=0\n",
    "        self_cliente=str(Tabla.iloc[Numero,1])\n",
    "        self_Numero_De_cuenta=str(Tabla.iloc[Numero,0])\n",
    "        self_Saldo_Actual=str(Tabla.iloc[Numero,2])\n",
    "        self_creada= datetime.now().date()\n",
    "\n",
    "        print(f\"CUENTA BANCARIA \\nCliente:{self_cliente} \\nNumero de cuenta:{self_Numero_De_cuenta} \\nSaldo actual:{self_Saldo_Actual} \\nFecha de transacción:{self_creada}\")\n",
    "\n",
    "        yield 1\n",
    "\n",
    "        Numero=1\n",
    "        self_cliente=str(Tabla.iloc[Numero,1])\n",
    "        self_Numero_De_cuenta=str(Tabla.iloc[Numero,0])\n",
    "        self_Saldo_Actual=str(Tabla.iloc[Numero,2])\n",
    "        self_creada= datetime.now().date()\n",
    "        print(f\"CUENTA BANCARIA \\nCliente:{self_cliente} \\nNumero de cuenta:{self_Numero_De_cuenta} \\nSaldo actual:{self_Saldo_Actual} \\nFecha de transacción:{self_creada}\")\n",
    "\n",
    "        yield 2\n",
    "\n",
    "        Numero=2\n",
    "        self_cliente=str(Tabla.iloc[Numero,1])\n",
    "        self_Numero_De_cuenta=str(Tabla.iloc[Numero,0])\n",
    "        self_Saldo_Actual=str(Tabla.iloc[Numero,2])\n",
    "        self_creada= datetime.now().date()\n",
    "        print(f\"CUENTA BANCARIA \\nCliente:{self_cliente} \\nNumero de cuenta:{self_Numero_De_cuenta} \\nSaldo actual:{self_Saldo_Actual} \\nFecha de transacción:{self_creada}\")\n",
    "\n",
    "        yield 3\n",
    "\n",
    "        Numero=3\n",
    "        self_cliente=str(Tabla.iloc[Numero,1])\n",
    "        self_Numero_De_cuenta=str(Tabla.iloc[Numero,0])\n",
    "        self_Saldo_Actual=str(Tabla.iloc[Numero,2])\n",
    "        self_creada= datetime.now().date()\n",
    "        print(f\"CUENTA BANCARIA \\nCliente:{self_cliente} \\nNumero de cuenta:{self_Numero_De_cuenta} \\nSaldo actual:{self_Saldo_Actual} \\nFecha de transacción:{self_creada}\")\n",
    "\n",
    "        yield 4\n",
    "\n",
    "        Numero=4\n",
    "        self_cliente=str(Tabla.iloc[Numero,1])\n",
    "        self_Numero_De_cuenta=str(Tabla.iloc[Numero,0])\n",
    "        self_Saldo_Actual=str(Tabla.iloc[Numero,2])\n",
    "        self_creada= datetime.now().date()\n",
    "        print(f\"CUENTA BANCARIA \\nCliente:{self_cliente} \\nNumero de cuenta:{self_Numero_De_cuenta} \\nSaldo actual:{self_Saldo_Actual} \\nFecha de transacción:{self_creada}\")\n",
    "\n",
    "\n",
    "\n",
    "\n",
    "\n",
    "\n",
    "\n",
    "\n",
    "\n",
    "\n",
    "for i in inte.Banco(0):\n",
    "    print(i, end=\"\\n \\n\")\n"
   ]
  },
  {
   "cell_type": "code",
   "execution_count": null,
   "id": "d4f5de2b-0c81-433a-954d-7dcb753f199d",
   "metadata": {},
   "outputs": [],
   "source": []
  }
 ],
 "metadata": {
  "kernelspec": {
   "display_name": "Python 3 (ipykernel)",
   "language": "python",
   "name": "python3"
  },
  "language_info": {
   "codemirror_mode": {
    "name": "ipython",
    "version": 3
   },
   "file_extension": ".py",
   "mimetype": "text/x-python",
   "name": "python",
   "nbconvert_exporter": "python",
   "pygments_lexer": "ipython3",
   "version": "3.9.12"
  }
 },
 "nbformat": 4,
 "nbformat_minor": 5
}
